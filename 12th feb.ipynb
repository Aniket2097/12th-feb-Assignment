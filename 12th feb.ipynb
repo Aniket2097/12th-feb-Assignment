{
 "cells": [
  {
   "cell_type": "markdown",
   "id": "928b5f7c-9d89-4c9a-99ad-5eb04fe02bab",
   "metadata": {},
   "source": [
    "Q1. What is an Exception in python? Write the different between Exceptions and Syntax error?"
   ]
  },
  {
   "cell_type": "markdown",
   "id": "344fe3d4-9df0-4d18-9f3a-d8b9527bc4b6",
   "metadata": {},
   "source": [
    "An exception is an event, which occurs during the execution of a program that disrupts the normal flow of the program's instructions. \n",
    "\n",
    "An Exception is an event that occurs during the program execution and disrupts the normal flow of the program's execution. Errors mostly happen at compile-time like syntax error; however it can happen at runtime as well. Whereas an Exception occurs at runtime (checked exceptions can be detected at compile time). A SyntaxError occurs any time the parser finds source code it does not understand."
   ]
  },
  {
   "cell_type": "raw",
   "id": "bb68b426-8efe-4b89-992f-f0f32c599ebf",
   "metadata": {},
   "source": [
    "Q2. What happen when exception is not handled? Explain with an example"
   ]
  },
  {
   "cell_type": "markdown",
   "id": "d569fc0f-5036-4af7-80e7-f8ec69803be8",
   "metadata": {},
   "source": [
    "If an exception is not handled in a Python program, the program will terminate abruptly and an error message will be displayed. The error message indicates what type of exception was raised and where it occurred in the code.\n",
    "\n",
    "For example, consider the following code:"
   ]
  },
  {
   "cell_type": "code",
   "execution_count": 2,
   "id": "1ee7570e-9404-4e01-b6a0-8aff574c35ab",
   "metadata": {},
   "outputs": [
    {
     "ename": "ZeroDivisionError",
     "evalue": "division by zero",
     "output_type": "error",
     "traceback": [
      "\u001b[0;31m---------------------------------------------------------------------------\u001b[0m",
      "\u001b[0;31mZeroDivisionError\u001b[0m                         Traceback (most recent call last)",
      "Cell \u001b[0;32mIn[2], line 7\u001b[0m\n\u001b[1;32m      4\u001b[0m x \u001b[38;5;241m=\u001b[39m \u001b[38;5;241m10\u001b[39m\n\u001b[1;32m      5\u001b[0m y \u001b[38;5;241m=\u001b[39m \u001b[38;5;241m0\u001b[39m\n\u001b[0;32m----> 7\u001b[0m result \u001b[38;5;241m=\u001b[39m \u001b[43mdivide\u001b[49m\u001b[43m(\u001b[49m\u001b[43mx\u001b[49m\u001b[43m,\u001b[49m\u001b[43m \u001b[49m\u001b[43my\u001b[49m\u001b[43m)\u001b[49m\n\u001b[1;32m      8\u001b[0m \u001b[38;5;28mprint\u001b[39m(result)\n",
      "Cell \u001b[0;32mIn[2], line 2\u001b[0m, in \u001b[0;36mdivide\u001b[0;34m(x, y)\u001b[0m\n\u001b[1;32m      1\u001b[0m \u001b[38;5;28;01mdef\u001b[39;00m \u001b[38;5;21mdivide\u001b[39m(x, y):\n\u001b[0;32m----> 2\u001b[0m     \u001b[38;5;28;01mreturn\u001b[39;00m \u001b[43mx\u001b[49m\u001b[43m \u001b[49m\u001b[38;5;241;43m/\u001b[39;49m\u001b[43m \u001b[49m\u001b[43my\u001b[49m\n",
      "\u001b[0;31mZeroDivisionError\u001b[0m: division by zero"
     ]
    }
   ],
   "source": [
    "def divide(x, y):\n",
    "    return x / y\n",
    "\n",
    "x = 10\n",
    "y = 0\n",
    "\n",
    "result = divide(x, y)\n",
    "print(result)"
   ]
  },
  {
   "cell_type": "markdown",
   "id": "8af4ab9a-d7c4-4c74-ab69-b7d31366bbb6",
   "metadata": {},
   "source": [
    "In this code, we are trying to divide x by y, which will result in a ZeroDivisionError exception because dividing by zero is not allowed in mathematics. If this exception is not handled, the program will terminate with the above error message\n",
    "\n",
    "This error message provides information about the type of exception (ZeroDivisionError) and the location in the code where the exception was raised (line 2 of the divide function). This information can be useful for debugging the program and fixing the problem.\n",
    "\n",
    "It is generally a good practice to handle exceptions in your code so that the program can continue running even if an error occurs, instead of abruptly terminating. You can handle exceptions using a try-except block, which allows you to catch specific exceptions and perform specific actions in response to those exceptions."
   ]
  },
  {
   "cell_type": "raw",
   "id": "cdb2dd72-e060-4cd8-b196-e1430bb69f88",
   "metadata": {},
   "source": [
    "3) Which Python statements are used to catch and handle exceptions? Explain with an example."
   ]
  },
  {
   "cell_type": "raw",
   "id": "8f6fed70-2dc1-49c4-80f7-9036e1b548ca",
   "metadata": {},
   "source": [
    "The try and except statements in Python are used to catch and handle exceptions. The try statement is used to define a block of code that you want to monitor for exceptions, and the except statement is used to define the actions to take in response to exceptions that are raised in the try block.\n",
    "\n",
    "Here's an example that demonstrates how the try and except statements can be used to catch and handle exceptions:"
   ]
  },
  {
   "cell_type": "code",
   "execution_count": 3,
   "id": "30a79c87-4b81-4be1-a9e8-a7a7621bd8e9",
   "metadata": {},
   "outputs": [
    {
     "name": "stdout",
     "output_type": "stream",
     "text": [
      "Error: Cannot divide by zero.\n"
     ]
    }
   ],
   "source": [
    "try:\n",
    "    # code that might raise an exception\n",
    "    result = 10 / 0\n",
    "except ZeroDivisionError as e:\n",
    "    # code that will be executed if the exception is raised\n",
    "    print(\"Error: Cannot divide by zero.\")\n",
    "else:\n",
    "    # code that will be executed if no exception was raised\n",
    "    print(result)"
   ]
  },
  {
   "cell_type": "markdown",
   "id": "64494ed1-1597-4f4f-be11-f6dec053c6e4",
   "metadata": {},
   "source": [
    "In this example, the code in the try block attempts to divide 10 by 0, which will result in a ZeroDivisionError exception. The except statement catches this exception and prints an error message. The else statement provides a block of code that will be executed if no exception was raised in the try block. In this case, the else block will not be executed because an exception was raised in the try block."
   ]
  },
  {
   "cell_type": "raw",
   "id": "73ae48f9-3301-4f5a-88c0-2b3a5b6518ea",
   "metadata": {},
   "source": [
    "4) Explain with an example\n",
    "a)try and else \n",
    "b)finally \n",
    "c)raise"
   ]
  },
  {
   "cell_type": "code",
   "execution_count": 4,
   "id": "95f28bac-ea9f-4eeb-ac53-d67a17f6fecc",
   "metadata": {},
   "outputs": [],
   "source": [
    "class validateage (Exception):\n",
    "    def __init__ (self,msg):\n",
    "        self.msg = msg"
   ]
  },
  {
   "cell_type": "code",
   "execution_count": 5,
   "id": "55a36017-79d5-4229-b465-3cc978cab155",
   "metadata": {},
   "outputs": [],
   "source": [
    "def validateage1 (age):\n",
    "    if age < 0:\n",
    "        raise validateage (\"enterd age is negetive\")\n",
    "    elif  age > 200 :\n",
    "        raise validateage (\"enterd age is too high\")\n",
    "    else :\n",
    "        print (\"this is your age\")"
   ]
  },
  {
   "cell_type": "code",
   "execution_count": 6,
   "id": "5ecd3a9e-8459-40ec-81a7-9bd0f87a97ec",
   "metadata": {},
   "outputs": [
    {
     "name": "stdin",
     "output_type": "stream",
     "text": [
      "enter the age 205\n"
     ]
    },
    {
     "name": "stdout",
     "output_type": "stream",
     "text": [
      "enterd age is too high\n",
      "thank you for enter the age\n"
     ]
    }
   ],
   "source": [
    "try :\n",
    "    age = int (input(\"enter the age\"))\n",
    "    validateage1 (age)\n",
    "except validateage as e :\n",
    "    print (e)\n",
    "finally :\n",
    "    print (\"thank you for enter the age\")"
   ]
  },
  {
   "cell_type": "raw",
   "id": "d0591cf9-7c03-43f1-8b16-52400ead6938",
   "metadata": {},
   "source": [
    "5) What are custom exceptions in Python? Why do we need Custom Exceptions? Explain with an example"
   ]
  },
  {
   "cell_type": "raw",
   "id": "91f29eba-76d1-4351-9180-ccb168fbd27e",
   "metadata": {},
   "source": [
    "In Python, you can create custom exceptions by defining a new class that inherits from the Exception class. Custom exceptions allow you to define specific exception types that can be raised and caught in your code.\n",
    "\n",
    "You need custom exceptions when you want to provide a more descriptive error message or want to handle specific error conditions in a different way. For example, if you're writing a function that performs a specific operation, you can define a custom exception for that function. If the operation fails, you can raise the custom exception and provide a detailed error message.\n",
    "\n",
    "Here's an example of a custom exception in Python:"
   ]
  },
  {
   "cell_type": "code",
   "execution_count": 7,
   "id": "6efae09c-0967-4ec1-a7a9-93bb363cf95c",
   "metadata": {},
   "outputs": [
    {
     "name": "stdout",
     "output_type": "stream",
     "text": [
      "Error: Cannot divide by zero.\n"
     ]
    }
   ],
   "source": [
    "class InvalidInputError(Exception):\n",
    "    def __init__(self, message):\n",
    "        self.message = message\n",
    "\n",
    "def divide(a, b):\n",
    "    if b == 0:\n",
    "        raise InvalidInputError(\"Error: Cannot divide by zero.\")\n",
    "    return a / b\n",
    "\n",
    "try:\n",
    "    result = divide(10, 0)\n",
    "except InvalidInputError as e:\n",
    "    print(e.message)"
   ]
  },
  {
   "cell_type": "markdown",
   "id": "438df833-ea0b-490b-bf17-b746751a0a6c",
   "metadata": {},
   "source": [
    "In this example, we define a custom exception InvalidInputError that inherits from the Exception class. The custom exception takes a message as an argument, which can be accessed using the message attribute. The divide function raises the InvalidInputError exception if the second argument is 0, providing a descriptive error message. The try-except block calls the divide function and catches the InvalidInputError exception. The except block prints the error message from the custom exception."
   ]
  },
  {
   "cell_type": "raw",
   "id": "43082b3a-c1c0-4ebf-8834-0a30780fe2ee",
   "metadata": {},
   "source": [
    "6) Create a Custom Exception class. Use this class to handle an exception"
   ]
  },
  {
   "cell_type": "code",
   "execution_count": 6,
   "id": "fc480e75-49a8-4032-b610-5e32a2524dd8",
   "metadata": {},
   "outputs": [],
   "source": [
    "class PasswordValidate(Exception):\n",
    "    def __init__(self,mes):\n",
    "        self.mes = mes"
   ]
  },
  {
   "cell_type": "code",
   "execution_count": 7,
   "id": "90eb065a-6974-47b3-b9a9-a0dce8a2fa9f",
   "metadata": {},
   "outputs": [],
   "source": [
    "def PasswordValid (s):\n",
    "    if len(s)<10:\n",
    "        raise PasswordValidate (\"Password length should be greater then 10\")\n",
    "    else :\n",
    "        print (\"Password Validate\")"
   ]
  },
  {
   "cell_type": "code",
   "execution_count": 8,
   "id": "7a4ca001-e5f0-43a6-978a-af30b06ac202",
   "metadata": {},
   "outputs": [
    {
     "name": "stdin",
     "output_type": "stream",
     "text": [
      "enter the password 4578\n"
     ]
    },
    {
     "name": "stdout",
     "output_type": "stream",
     "text": [
      "Password length should be greater then 10\n",
      "Thank You.\n"
     ]
    }
   ],
   "source": [
    "try :\n",
    "    s = input(\"enter the password\")\n",
    "    PasswordValid(s)\n",
    "    \n",
    "except PasswordValidate as e:\n",
    "    print (e)\n",
    "finally :\n",
    "    print(\"Thank You.\")\n",
    "    \n",
    "    "
   ]
  },
  {
   "cell_type": "code",
   "execution_count": null,
   "id": "289af850-629b-443d-ab1d-747b3d00df30",
   "metadata": {},
   "outputs": [],
   "source": []
  },
  {
   "cell_type": "code",
   "execution_count": 9,
   "id": "29f98b37-9b0c-401d-ae4a-4423903923af",
   "metadata": {},
   "outputs": [],
   "source": [
    "### Assignment Complete"
   ]
  },
  {
   "cell_type": "code",
   "execution_count": null,
   "id": "781e05f5-8dc4-414d-ba49-acefb4dffb79",
   "metadata": {},
   "outputs": [],
   "source": []
  },
  {
   "cell_type": "code",
   "execution_count": null,
   "id": "79f13819-741a-48a2-96f8-4551ae3c36ad",
   "metadata": {},
   "outputs": [],
   "source": []
  },
  {
   "cell_type": "code",
   "execution_count": null,
   "id": "3b683138-08ef-4858-ad09-72b39c518b18",
   "metadata": {},
   "outputs": [],
   "source": []
  },
  {
   "cell_type": "code",
   "execution_count": null,
   "id": "f2847a1f-4311-4be0-89cc-05260d340fee",
   "metadata": {},
   "outputs": [],
   "source": []
  }
 ],
 "metadata": {
  "kernelspec": {
   "display_name": "Python 3 (ipykernel)",
   "language": "python",
   "name": "python3"
  },
  "language_info": {
   "codemirror_mode": {
    "name": "ipython",
    "version": 3
   },
   "file_extension": ".py",
   "mimetype": "text/x-python",
   "name": "python",
   "nbconvert_exporter": "python",
   "pygments_lexer": "ipython3",
   "version": "3.10.8"
  }
 },
 "nbformat": 4,
 "nbformat_minor": 5
}
